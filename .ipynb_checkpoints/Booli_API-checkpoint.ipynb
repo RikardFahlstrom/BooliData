{
 "cells": [
  {
   "cell_type": "markdown",
   "metadata": {},
   "source": [
    "# Create custom email notifications for new listings\n",
    "\n",
    "**Based on user critieras, an email will be sent to your email once a week with the newest listings.**"
   ]
  },
  {
   "cell_type": "code",
   "execution_count": 120,
   "metadata": {
    "collapsed": true
   },
   "outputs": [],
   "source": [
    "# Import necessary libraries\n",
    "import requests\n",
    "import time\n",
    "import random\n",
    "import string\n",
    "import hashlib\n",
    "import pandas as pd\n",
    "import json\n",
    "import smtplib\n",
    "from email.mime.multipart import MIMEMultipart\n",
    "from email.mime.text import MIMEText\n",
    "from email.mime.base import MIMEBase\n",
    "from email import encoders\n",
    "import csv"
   ]
  },
  {
   "cell_type": "markdown",
   "metadata": {},
   "source": [
    "**This script will enable you to create custom email alerts for new house listings.** \n",
    "<br> You need your own CallerId for the Booli API. </br>"
   ]
  },
  {
   "cell_type": "code",
   "execution_count": 121,
   "metadata": {},
   "outputs": [
    {
     "name": "stdout",
     "output_type": "stream",
     "text": [
      "Enter your email address: test\n",
      "You already have an alarm config.\n",
      "Do you want to reset? y/n: y\n",
      "Continue\n",
      "append to list\n"
     ]
    }
   ],
   "source": [
    "user_email = input(\"Enter your email address: \")\n",
    "\n",
    "with open('users.csv', 'r') as f:\n",
    "    reader = csv.reader(f)\n",
    "    user_list = list(reader)\n",
    "    \n",
    "user_list_2 = [item for user_list_2 in user_list for item in user_list_2]\n",
    "    \n",
    "if user_email in user_list_2:\n",
    "    print(\"You already have an alarm config.\")\n",
    "    answer = input(\"Do you want to reset? y/n: \")\n",
    "    if answer == 'n':\n",
    "        print(\"EXIT\")\n",
    "        exit()\n",
    "        \n",
    "    else:\n",
    "        print(\"Continue\")\n",
    "        pass\n",
    "    \n",
    "\n",
    "print(\"append to list\")\n",
    "user_list_2.append(user_email)\n",
    "    \n",
    "with open('users.csv', 'w') as f:\n",
    "    wr = csv.writer(f, quoting=csv.QUOTE_ALL)\n",
    "    wr.writerow(user_list_2)\n"
   ]
  },
  {
   "cell_type": "code",
   "execution_count": 122,
   "metadata": {},
   "outputs": [
    {
     "name": "stdout",
     "output_type": "stream",
     "text": [
      "Please enter your Booli-API CallerId: Rikard Fahlström\n",
      "Perfect! Now let´s enter some custom configs for your email notifications.\n"
     ]
    }
   ],
   "source": [
    "# Ask user for API login information\n",
    "\n",
    "callerId = input(\"Please enter your Booli-API CallerId: \")\n",
    "if len(callerId) == 0:\n",
    "    callerId = input(\"You did not write anything! Please enter your Booli-API CallerId: \")\n",
    "\n",
    "user_key = 'ENTER-API-PASSWORD'\n",
    "#key = input(\"Please enter your Booli-API private key: \")\n",
    "#if len(key) == 0:\n",
    "    #key = input(\"You did not write anything! Please enter your Booli-API private key: \")\n",
    "\n",
    "print(\"Perfect! Now let´s enter some custom configs for your email notifications.\")"
   ]
  },
  {
   "cell_type": "code",
   "execution_count": 123,
   "metadata": {},
   "outputs": [
    {
     "name": "stdout",
     "output_type": "stream",
     "text": [
      "Which area are you interested in? Type for e.g. Uppsala, Falun, Vasastan. Falun\n",
      "What type of object are you interested in? Enter 'villa', 'lägenhet', 'gård', 'tomt-mark', 'fritidshus', 'parhus','radhus' or 'kedjehus'. lägenhet\n",
      "Thanks!\n",
      "Enter minimum number of rooms: 2\n",
      "Enter maximum list price for objects: 5000000\n",
      "Great, you will now receive a email once per day.\n"
     ]
    }
   ],
   "source": [
    "# Ask for custom search options\n",
    "\n",
    "# Define area\n",
    "area = input(\"Which area are you interested in? Type for e.g. Uppsala, Falun, Vasastan. \")\n",
    "if len(area) == 0:\n",
    "    area = input(\"Please enter area of interest: \")\n",
    "\n",
    "# Define type_of_object    \n",
    "valid_type_of_objects = ['villa', 'lägenhet', 'gård', 'tomt-mark', 'fritidshus', 'parhus','radhus','kedjehus']    \n",
    "\n",
    "type_of_object = input(\"What type of object are you interested in? Enter 'villa', 'lägenhet', 'gård', 'tomt-mark', 'fritidshus', 'parhus','radhus' or 'kedjehus'. \")\n",
    "if type_of_object in valid_type_of_objects:\n",
    "    print(\"Thanks!\")\n",
    "else:\n",
    "    type_of_object = input(\"Please enter which type of object you are interested in. Enter one of following; 'villa', 'lägenhet', 'gård', 'tomt-mark', 'fritidshus', 'parhus','radhus' or 'kedjehus'.\")\n",
    "\n",
    "# Define minimum number of rooms\n",
    "MinRooms = input(\"Enter minimum number of rooms: \")\n",
    "if len(MinRooms) == 0:\n",
    "    MinRooms = input(\"Please enter minimum number of rooms as single digit.\")\n",
    "elif MinRooms == \"0\":\n",
    "    MinRooms = input(\"0 number of rooms is not a valid object, please enter number of rooms >0: \")\n",
    "    \n",
    "\n",
    "# Ask for maximum list price\n",
    "MaxPrice = input(\"Enter maximum list price for objects: \")\n",
    "if len(MaxPrice) == 0:\n",
    "    MaxPrice = input(\"Please enter the maximum list price: \")\n",
    "\n",
    "\n",
    "print(\"Great, you will now receive a email once per day.\")"
   ]
  },
  {
   "cell_type": "code",
   "execution_count": 124,
   "metadata": {},
   "outputs": [
    {
     "name": "stdout",
     "output_type": "stream",
     "text": [
      "Status code from API request = 200\n",
      "\n",
      "Number of listings returned in API = 10\n",
      "\n",
      "dict_keys(['totalCount', 'count', 'listings', 'limit', 'offset', 'searchParams'])\n"
     ]
    }
   ],
   "source": [
    "# Create API-requests based on user input\n",
    "\n",
    "# Inputvärden\n",
    "callerId = \"Rikard Fahlström\"\n",
    "time = str(time.time())\n",
    "unique = str(''.join(random.choice(string.ascii_lowercase + string.digits) for _ in range(16)))\n",
    "key = user_key\n",
    "hashstr = hashlib.sha1((callerId+time+key+unique).encode('utf-8')).hexdigest()\n",
    "query_type = 'listings'  # Enter 'listings', 'sold' eller 'areas'\n",
    "query_city = area\n",
    "offset = '0' # \n",
    "limit = str(10)  # Max antal svar från deras server. Maxgräns = 500\n",
    "object_type = str(type_of_object)\n",
    "\n",
    "# Själva API-frågan\n",
    "r = requests.get(\"https://api.booli.se/\"+\n",
    "                 query_type+\"?q=\"+query_city+\n",
    "                 \"&callerId=\"+callerId+\n",
    "                 \"&time=\"+time+\n",
    "                 \"&unique=\"+unique+\n",
    "                 \"&hash=\"+str(hashstr)+\n",
    "                 \"&limit=\"+limit+\n",
    "                 \"&offset=\"+offset+\n",
    "                 \"&objectType=\"+object_type+\n",
    "                \"&minRooms=\"+MinRooms+\n",
    "                \"&maxListPrice=\"+MaxPrice)\n",
    "\n",
    "print(\"Status code from API request = \" + str(r.status_code)+ \"\\n\")\n",
    "\n",
    "if r.status_code != 200:\n",
    "    print('fail')\n",
    "    exit()\n",
    "\n",
    "output = json.loads(r.text)\n",
    "\n",
    "print(\"Number of listings returned in API = \" + str(len(output['listings'])) + \"\\n\")\n",
    "print(output.keys())"
   ]
  },
  {
   "cell_type": "code",
   "execution_count": 125,
   "metadata": {
    "collapsed": true
   },
   "outputs": [],
   "source": [
    "urls = []\n",
    "for value in range(len(output['listings'])):\n",
    "    urls.append(output['listings'][value]['url'])\n",
    "\n",
    "#print(type(urls))"
   ]
  },
  {
   "cell_type": "code",
   "execution_count": 126,
   "metadata": {
    "collapsed": true
   },
   "outputs": [],
   "source": [
    "object_id = []\n",
    "for value in range(len(output['listings'])):\n",
    "    object_id.append(output['listings'][value]['booliId'])\n",
    "\n",
    "#print(type(object_id))"
   ]
  },
  {
   "cell_type": "code",
   "execution_count": 127,
   "metadata": {
    "collapsed": true
   },
   "outputs": [],
   "source": [
    "room_info = []\n",
    "for value in range(len(output['listings'])):\n",
    "    room_info.append(output['listings'][value]['rooms'])\n",
    "\n",
    "#print(room_info)"
   ]
  },
  {
   "cell_type": "code",
   "execution_count": 128,
   "metadata": {
    "collapsed": true
   },
   "outputs": [],
   "source": [
    "muni_info = []\n",
    "for value in range(len(output['listings'])):\n",
    "    muni_info.append(output['listings'][value]['location']['region']['municipalityName'])\n",
    "\n",
    "#print(muni_info)"
   ]
  },
  {
   "cell_type": "code",
   "execution_count": 129,
   "metadata": {},
   "outputs": [],
   "source": [
    "price_info = []\n",
    "for value in range(len(output['listings'])):\n",
    "    price_format = '{:,}'.format(output['listings'][value]['listPrice'])\n",
    "    price_info.append(price_format)\n",
    "\n",
    "#print(price_info)"
   ]
  },
  {
   "cell_type": "code",
   "execution_count": 130,
   "metadata": {
    "collapsed": true
   },
   "outputs": [],
   "source": [
    "address_info = []\n",
    "for value in range(len(output['listings'])):\n",
    "    address_info.append(output['listings'][value]['location']['address']['streetAddress'])\n",
    "\n",
    "#print(address_info)"
   ]
  },
  {
   "cell_type": "code",
   "execution_count": 131,
   "metadata": {},
   "outputs": [],
   "source": [
    "published_info = []\n",
    "for value in range(len(output['listings'])):\n",
    "    date_format = pd.to_datetime(output['listings'][value]['published'],format=\"%Y-%m-%d %H:%M:%S\")\n",
    "    published_info.append(date_format.date())\n",
    "    \n",
    "#print(published_info)"
   ]
  },
  {
   "cell_type": "code",
   "execution_count": 132,
   "metadata": {},
   "outputs": [
    {
     "data": {
      "text/html": [
       "<div>\n",
       "<style>\n",
       "    .dataframe thead tr:only-child th {\n",
       "        text-align: right;\n",
       "    }\n",
       "\n",
       "    .dataframe thead th {\n",
       "        text-align: left;\n",
       "    }\n",
       "\n",
       "    .dataframe tbody tr th {\n",
       "        vertical-align: top;\n",
       "    }\n",
       "</style>\n",
       "<table border=\"1\" class=\"dataframe\">\n",
       "  <thead>\n",
       "    <tr style=\"text-align: right;\">\n",
       "      <th></th>\n",
       "      <th>1. Address</th>\n",
       "      <th>2. Area</th>\n",
       "      <th>3. Price</th>\n",
       "      <th>4. Rooms</th>\n",
       "      <th>5. urls</th>\n",
       "    </tr>\n",
       "    <tr>\n",
       "      <th>Published</th>\n",
       "      <th></th>\n",
       "      <th></th>\n",
       "      <th></th>\n",
       "      <th></th>\n",
       "      <th></th>\n",
       "    </tr>\n",
       "  </thead>\n",
       "  <tbody>\n",
       "    <tr>\n",
       "      <th>2017-06-18</th>\n",
       "      <td>Herrhagsvägen 13C</td>\n",
       "      <td>Falun</td>\n",
       "      <td>1,195,000</td>\n",
       "      <td>3.0</td>\n",
       "      <td>https://www.booli.se/annons/2355236</td>\n",
       "    </tr>\n",
       "    <tr>\n",
       "      <th>2017-06-16</th>\n",
       "      <td>Kungsgårdsvägen 2A</td>\n",
       "      <td>Falun</td>\n",
       "      <td>1,150,000</td>\n",
       "      <td>3.0</td>\n",
       "      <td>https://www.booli.se/annons/2354781</td>\n",
       "    </tr>\n",
       "    <tr>\n",
       "      <th>2017-06-16</th>\n",
       "      <td>Linnévägen 23A</td>\n",
       "      <td>Falun</td>\n",
       "      <td>1,825,000</td>\n",
       "      <td>2.5</td>\n",
       "      <td>https://www.booli.se/annons/2354008</td>\n",
       "    </tr>\n",
       "    <tr>\n",
       "      <th>2017-06-14</th>\n",
       "      <td>Linnévägen 23A</td>\n",
       "      <td>Falun</td>\n",
       "      <td>1,595,000</td>\n",
       "      <td>2.0</td>\n",
       "      <td>https://www.booli.se/annons/2353076</td>\n",
       "    </tr>\n",
       "    <tr>\n",
       "      <th>2017-06-13</th>\n",
       "      <td>Ingels väg 147</td>\n",
       "      <td>Falun</td>\n",
       "      <td>1,350,000</td>\n",
       "      <td>2.0</td>\n",
       "      <td>https://www.booli.se/annons/2352350</td>\n",
       "    </tr>\n",
       "    <tr>\n",
       "      <th>2017-06-11</th>\n",
       "      <td>Sturegatan 75E</td>\n",
       "      <td>Falun</td>\n",
       "      <td>1,495,000</td>\n",
       "      <td>3.0</td>\n",
       "      <td>https://www.booli.se/annons/2346310</td>\n",
       "    </tr>\n",
       "    <tr>\n",
       "      <th>2017-06-10</th>\n",
       "      <td>Drottningvägen 10B</td>\n",
       "      <td>Falun</td>\n",
       "      <td>350,000</td>\n",
       "      <td>3.0</td>\n",
       "      <td>https://www.booli.se/annons/2350503</td>\n",
       "    </tr>\n",
       "    <tr>\n",
       "      <th>2017-06-03</th>\n",
       "      <td>Linnévägen 29A</td>\n",
       "      <td>Falun</td>\n",
       "      <td>1,925,000</td>\n",
       "      <td>3.0</td>\n",
       "      <td>https://www.booli.se/annons/2345731</td>\n",
       "    </tr>\n",
       "    <tr>\n",
       "      <th>2017-06-02</th>\n",
       "      <td>Hyttgatan 33A</td>\n",
       "      <td>Falun</td>\n",
       "      <td>1,385,000</td>\n",
       "      <td>3.0</td>\n",
       "      <td>https://www.booli.se/annons/2345463</td>\n",
       "    </tr>\n",
       "    <tr>\n",
       "      <th>2017-06-02</th>\n",
       "      <td>Södra Mariegatan 13B</td>\n",
       "      <td>Falun</td>\n",
       "      <td>1,295,000</td>\n",
       "      <td>2.0</td>\n",
       "      <td>https://www.booli.se/annons/2345409</td>\n",
       "    </tr>\n",
       "  </tbody>\n",
       "</table>\n",
       "</div>"
      ],
      "text/plain": [
       "                      1. Address 2. Area   3. Price  4. Rooms  \\\n",
       "Published                                                       \n",
       "2017-06-18     Herrhagsvägen 13C   Falun  1,195,000       3.0   \n",
       "2017-06-16    Kungsgårdsvägen 2A   Falun  1,150,000       3.0   \n",
       "2017-06-16        Linnévägen 23A   Falun  1,825,000       2.5   \n",
       "2017-06-14        Linnévägen 23A   Falun  1,595,000       2.0   \n",
       "2017-06-13        Ingels väg 147   Falun  1,350,000       2.0   \n",
       "2017-06-11        Sturegatan 75E   Falun  1,495,000       3.0   \n",
       "2017-06-10    Drottningvägen 10B   Falun    350,000       3.0   \n",
       "2017-06-03        Linnévägen 29A   Falun  1,925,000       3.0   \n",
       "2017-06-02         Hyttgatan 33A   Falun  1,385,000       3.0   \n",
       "2017-06-02  Södra Mariegatan 13B   Falun  1,295,000       2.0   \n",
       "\n",
       "                                        5. urls  \n",
       "Published                                        \n",
       "2017-06-18  https://www.booli.se/annons/2355236  \n",
       "2017-06-16  https://www.booli.se/annons/2354781  \n",
       "2017-06-16  https://www.booli.se/annons/2354008  \n",
       "2017-06-14  https://www.booli.se/annons/2353076  \n",
       "2017-06-13  https://www.booli.se/annons/2352350  \n",
       "2017-06-11  https://www.booli.se/annons/2346310  \n",
       "2017-06-10  https://www.booli.se/annons/2350503  \n",
       "2017-06-03  https://www.booli.se/annons/2345731  \n",
       "2017-06-02  https://www.booli.se/annons/2345463  \n",
       "2017-06-02  https://www.booli.se/annons/2345409  "
      ]
     },
     "execution_count": 132,
     "metadata": {},
     "output_type": "execute_result"
    }
   ],
   "source": [
    "df = pd.DataFrame({\n",
    "    'Published':published_info,\n",
    "     '2. Area':muni_info,\n",
    "     '1. Address':address_info,\n",
    "     '4. Rooms':room_info,\n",
    "     '3. Price':price_info,\n",
    "    '5. urls':urls\n",
    "     })\n",
    "\n",
    "df2 = df.set_index(['Published'])\n",
    "df_html = df2.to_html()\n",
    "\n",
    "df2"
   ]
  },
  {
   "cell_type": "code",
   "execution_count": 133,
   "metadata": {},
   "outputs": [],
   "source": [
    "html = \"\"\"\\\n",
    "       <html>\n",
    "            <body>\n",
    "                \n",
    "                Hi,\n",
    "                <p>\n",
    "                    Here is your custom email notification regarding new listings. \n",
    "                    <b></b>\n",
    "                    %s\n",
    "                    <b></b>\n",
    "                    Please contact rikard.fahlstrom@etraveli.com if you have suggestions for improvements.\n",
    "                </p> \n",
    "             </body>\n",
    "       </html>\n",
    "   \"\"\" %(df_html)"
   ]
  },
  {
   "cell_type": "code",
   "execution_count": 135,
   "metadata": {},
   "outputs": [
    {
     "name": "stdout",
     "output_type": "stream",
     "text": [
      "Done\n"
     ]
    }
   ],
   "source": [
    "# Add df to email\n",
    "\n",
    "fromaddr = 'Custom email notification'\n",
    "toaddr = 'rikard.fahlstrom@etraveli.com'\n",
    "subject = 'Most recent listings'\n",
    "msg = MIMEMultipart()\n",
    "\n",
    "msg['From'] = fromaddr\n",
    "msg['To'] = toaddr\n",
    "msg['Subject'] = subject\n",
    "msg.attach(MIMEText(html, 'html'))\n",
    "\n",
    "\n",
    "server = smtplib.SMTP('smtp.gmail.com', 587)\n",
    "server.starttls()\n",
    "server.login('rikard.email.notification@gmail.com', 'ENTER-EMAIL-PASSWORD')\n",
    "text = msg.as_string()\n",
    "server.sendmail('rikard.email.notification@gmail.com', toaddr, text)\n",
    "server.quit()\n",
    "\n",
    "print('Done')"
   ]
  },
  {
   "cell_type": "code",
   "execution_count": null,
   "metadata": {
    "collapsed": true
   },
   "outputs": [],
   "source": []
  }
 ],
 "metadata": {
  "kernelspec": {
   "display_name": "Python 3",
   "language": "python",
   "name": "python3"
  },
  "language_info": {
   "codemirror_mode": {
    "name": "ipython",
    "version": 3
   },
   "file_extension": ".py",
   "mimetype": "text/x-python",
   "name": "python",
   "nbconvert_exporter": "python",
   "pygments_lexer": "ipython3",
   "version": "3.6.1"
  }
 },
 "nbformat": 4,
 "nbformat_minor": 2
}
