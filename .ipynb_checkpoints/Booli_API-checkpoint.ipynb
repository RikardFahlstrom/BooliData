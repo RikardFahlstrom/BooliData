{
 "cells": [
  {
   "cell_type": "code",
   "execution_count": 50,
   "metadata": {
    "collapsed": true
   },
   "outputs": [],
   "source": [
    "# Import necessary libraries\n",
    "import requests\n",
    "import time\n",
    "import random\n",
    "import string\n",
    "import hashlib\n",
    "import pandas as pd\n",
    "import json\n"
   ]
  },
  {
   "cell_type": "code",
   "execution_count": 51,
   "metadata": {},
   "outputs": [
    {
     "name": "stdout",
     "output_type": "stream",
     "text": [
      "This script will enable you to create custom email alerts for new house listings. \n",
      "You need your own CallerId and key for the Booli-API.\n"
     ]
    }
   ],
   "source": [
    "# Present script info to user\n",
    "print(\"This script will enable you to create custom email alerts for new house listings. \\nYou need your own CallerId and key for the Booli-API.\")"
   ]
  },
  {
   "cell_type": "code",
   "execution_count": 52,
   "metadata": {},
   "outputs": [
    {
     "name": "stdout",
     "output_type": "stream",
     "text": [
      "Please enter your Booli-API CallerId: Rikard Fahlström\n",
      "Please enter your Booli-API private key: vOl0qzQAp1tKtsFvzHXDPpA27ga9ZE5AdJaGiIIX\n",
      "Perfect! Now let´s enter some custom search options.\n"
     ]
    }
   ],
   "source": [
    "# Ask user for API login information\n",
    "\n",
    "callerId = input(\"Please enter your Booli-API CallerId: \")\n",
    "if len(callerId) == 0:\n",
    "    callerId = input(\"You did not write anything! Please enter your Booli-API CallerId: \")\n",
    "\n",
    "key = input(\"Please enter your Booli-API private key: \")\n",
    "if len(key) == 0:\n",
    "    key = input(\"You did not write anything! Please enter your Booli-API private key: \")\n",
    "\n",
    "print(\"Perfect! Now let´s enter some custom search options.\")"
   ]
  },
  {
   "cell_type": "code",
   "execution_count": 53,
   "metadata": {},
   "outputs": [
    {
     "name": "stdout",
     "output_type": "stream",
     "text": [
      "Which area are you interested in? Type for e.g. Uppsala, Falun, Vasastan. Falun\n",
      "What type of object are you interested in? Enter 'villa', 'lägenhet', 'gård', 'tomt-mark', 'fritidshus', 'parhus','radhus' or 'kedjehus'. lägenhet\n",
      "Thanks!\n",
      "Enter minimum number of rooms: 2\n",
      "Enter maximum list price for objects: 5000000\n"
     ]
    }
   ],
   "source": [
    "# Ask for custom search options\n",
    "\n",
    "# Define area\n",
    "area = input(\"Which area are you interested in? Type for e.g. Uppsala, Falun, Vasastan. \")\n",
    "if len(area) == 0:\n",
    "    area = input(\"Please enter area of interest: \")\n",
    "\n",
    "# Define type_of_object    \n",
    "valid_type_of_objects = ['villa', 'lägenhet', 'gård', 'tomt-mark', 'fritidshus', 'parhus','radhus','kedjehus']    \n",
    "\n",
    "type_of_object = input(\"What type of object are you interested in? Enter 'villa', 'lägenhet', 'gård', 'tomt-mark', 'fritidshus', 'parhus','radhus' or 'kedjehus'. \")\n",
    "if type_of_object in valid_type_of_objects:\n",
    "    print(\"Thanks!\")\n",
    "else:\n",
    "    type_of_object = input(\"Please enter which type of object you are interested in. Enter one of following; 'villa', 'lägenhet', 'gård', 'tomt-mark', 'fritidshus', 'parhus','radhus' or 'kedjehus'.\")\n",
    "\n",
    "# Define minimum number of rooms\n",
    "MinRooms = input(\"Enter minimum number of rooms: \")\n",
    "if len(MinRooms) == 0:\n",
    "    MinRooms = input(\"Please enter minimum number of rooms as single digit.\")\n",
    "elif MinRooms == \"0\":\n",
    "    MinRooms = input(\"0 number of rooms is not a valid object, please enter number of rooms >0: \")\n",
    "    \n",
    "\n",
    "# Ask for maximum list price\n",
    "MaxPrice = input(\"Enter maximum list price for objects: \")\n",
    "if len(MaxPrice) == 0:\n",
    "    MaxPrice = input(\"Please enter the maximum list price: \")\n",
    "    "
   ]
  },
  {
   "cell_type": "code",
   "execution_count": 54,
   "metadata": {},
   "outputs": [
    {
     "name": "stdout",
     "output_type": "stream",
     "text": [
      "Status code from API request = 200\n",
      "\n",
      "Number of listings returned in API = 18\n",
      "\n",
      "dict_keys(['totalCount', 'count', 'listings', 'limit', 'offset', 'searchParams'])\n"
     ]
    }
   ],
   "source": [
    "# Create API-requests based on user input\n",
    "\n",
    "# Inputvärden\n",
    "callerId = \"Rikard Fahlström\"\n",
    "time = str(time.time())\n",
    "unique = str(''.join(random.choice(string.ascii_lowercase + string.digits) for _ in range(16)))\n",
    "key = \"vOl0qzQAp1tKtsFvzHXDPpA27ga9ZE5AdJaGiIIX\"\n",
    "hashstr = hashlib.sha1((callerId+time+key+unique).encode('utf-8')).hexdigest()\n",
    "query_type = 'listings'  # Enter 'listings', 'sold' eller 'areas'\n",
    "query_city = area\n",
    "offset = '0' # \n",
    "limit = str(200)  # Max antal svar från deras server. Maxgräns = 500\n",
    "object_type = str(type_of_object)\n",
    "\n",
    "# Själva API-frågan\n",
    "r = requests.get(\"https://api.booli.se/\"+\n",
    "                 query_type+\"?q=\"+query_city+\n",
    "                 \"&callerId=\"+callerId+\n",
    "                 \"&time=\"+time+\n",
    "                 \"&unique=\"+unique+\n",
    "                 \"&hash=\"+str(hashstr)+\n",
    "                 \"&limit=\"+limit+\n",
    "                 \"&offset=\"+offset+\n",
    "                 \"&objectType=\"+object_type+\n",
    "                \"&minRooms=\"+MinRooms+\n",
    "                \"&maxListPrice=\"+MaxPrice)\n",
    "\n",
    "print(\"Status code from API request = \" + str(r.status_code)+ \"\\n\")\n",
    "\n",
    "if r.status_code != 200:\n",
    "    print('fail')\n",
    "    exit()\n",
    "\n",
    "output = json.loads(r.text)\n",
    "\n",
    "print(\"Number of listings returned in API = \" + str(len(output['listings'])) + \"\\n\")\n",
    "print(output.keys())\n"
   ]
  },
  {
   "cell_type": "code",
   "execution_count": 55,
   "metadata": {},
   "outputs": [],
   "source": [
    "urls = []\n",
    "for value in range(len(output['listings'])):\n",
    "    urls.append(output['listings'][value]['url'])\n",
    "\n",
    "#print(urls)"
   ]
  },
  {
   "cell_type": "code",
   "execution_count": 56,
   "metadata": {},
   "outputs": [],
   "source": [
    "object_id = []\n",
    "for value in range(len(output['listings'])):\n",
    "    object_id.append(output['listings'][value]['booliId'])\n",
    "\n",
    "#print(object_id)"
   ]
  },
  {
   "cell_type": "code",
   "execution_count": 57,
   "metadata": {},
   "outputs": [],
   "source": [
    "room_info = []\n",
    "for value in range(len(output['listings'])):\n",
    "    room_info.append(output['listings'][value]['rooms'])\n",
    "\n",
    "#print(room_info)"
   ]
  },
  {
   "cell_type": "code",
   "execution_count": 58,
   "metadata": {},
   "outputs": [],
   "source": [
    "muni_info = []\n",
    "for value in range(len(output['listings'])):\n",
    "    muni_info.append(output['listings'][value]['location']['region']['municipalityName'])\n",
    "\n",
    "#print(muni_info)"
   ]
  },
  {
   "cell_type": "code",
   "execution_count": 59,
   "metadata": {},
   "outputs": [],
   "source": [
    "price_info = []\n",
    "for value in range(len(output['listings'])):\n",
    "    price_info.append(output['listings'][value]['listPrice'])\n",
    "\n",
    "#print(price_info)"
   ]
  },
  {
   "cell_type": "code",
   "execution_count": 60,
   "metadata": {},
   "outputs": [],
   "source": [
    "address_info = []\n",
    "for value in range(len(output['listings'])):\n",
    "    address_info.append(output['listings'][value]['location']['address']['streetAddress'])\n",
    "\n",
    "#print(address_info)"
   ]
  },
  {
   "cell_type": "code",
   "execution_count": 61,
   "metadata": {},
   "outputs": [],
   "source": [
    "published_info = []\n",
    "for value in range(len(output['listings'])):\n",
    "    published_info.append(output['listings'][value]['published'])\n",
    "\n",
    "#print(published_info)"
   ]
  },
  {
   "cell_type": "code",
   "execution_count": 62,
   "metadata": {},
   "outputs": [
    {
     "name": "stdout",
     "output_type": "stream",
     "text": [
      "              Published               address muni_info  object_id    price  \\\n",
      "0   2017-06-03 13:28:28  Lustigknoppsvägen 6B     Falun    2277833  1250000   \n",
      "1   2017-06-03 00:03:27        Linnévägen 29A     Falun    2345731  1925000   \n",
      "2   2017-06-02 22:06:42         Hyttgatan 33A     Falun    2345463  1385000   \n",
      "3   2017-06-02 21:49:23  Södra Mariegatan 13B     Falun    2345409  1295000   \n",
      "4   2017-06-02 15:35:51     Surbrunnsvägen 2B     Falun    2344416   950000   \n",
      "5   2017-05-31 23:39:22        Torkils väg 3G     Falun    2342439  1295000   \n",
      "6   2017-05-31 21:50:20  Bergmästaregatan 27A     Falun    2342324  1450000   \n",
      "7   2017-05-30 16:41:19         Promenaden 15     Falun    2311805  1495000   \n",
      "8   2017-05-29 13:35:19         Promenaden 15     Falun    2339550  1250000   \n",
      "9   2017-05-26 19:50:34         Sveagatan 23B     Falun    2338917   995000   \n",
      "10  2017-05-26 13:09:09           Parkgatan 1     Falun    2333511  3495000   \n",
      "11  2017-05-25 01:26:31        Vårlidsvägen 8     Falun    2337246  1450000   \n",
      "12  2017-05-24 11:51:17       Torkils väg 41B     Falun    2334898  1395000   \n",
      "13  2017-05-18 01:01:11       Torkils väg 10D     Falun    2330469  1695000   \n",
      "14  2017-05-13 17:17:58        Linnévägen 23A     Falun    2325014  1695000   \n",
      "15  2017-05-09 13:46:47      Herrhagsvägen 9B     Falun    2320291  1250000   \n",
      "16  2017-03-30 16:11:18     Magasinsgatan 14E     Falun    2291119  1525000   \n",
      "17  2017-03-17 20:53:40           Åsgatan 46B     Falun    2283519  1295000   \n",
      "\n",
      "    rooms                                 urls  \n",
      "0       2  https://www.booli.se/annons/2277833  \n",
      "1       3  https://www.booli.se/annons/2345731  \n",
      "2       3  https://www.booli.se/annons/2345463  \n",
      "3       2  https://www.booli.se/annons/2345409  \n",
      "4       2  https://www.booli.se/annons/2344416  \n",
      "5       2  https://www.booli.se/annons/2342439  \n",
      "6       2  https://www.booli.se/annons/2342324  \n",
      "7       2  https://www.booli.se/annons/2311805  \n",
      "8       2  https://www.booli.se/annons/2339550  \n",
      "9       2  https://www.booli.se/annons/2338917  \n",
      "10      3  https://www.booli.se/annons/2333511  \n",
      "11      2  https://www.booli.se/annons/2337246  \n",
      "12      3  https://www.booli.se/annons/2334898  \n",
      "13      3  https://www.booli.se/annons/2330469  \n",
      "14      2  https://www.booli.se/annons/2325014  \n",
      "15      3  https://www.booli.se/annons/2320291  \n",
      "16      3  https://www.booli.se/annons/2291119  \n",
      "17      2  https://www.booli.se/annons/2283519  \n"
     ]
    }
   ],
   "source": [
    "df = pd.DataFrame(\n",
    "    {'object_id':object_id,\n",
    "     'Published':published_info,\n",
    "     'muni_info':muni_info,\n",
    "     'address':address_info,\n",
    "     'rooms':room_info,\n",
    "     'price':price_info,\n",
    "    'urls':urls\n",
    "     })\n",
    "\n",
    "print(df)"
   ]
  },
  {
   "cell_type": "code",
   "execution_count": null,
   "metadata": {
    "collapsed": true
   },
   "outputs": [],
   "source": [
    "# Add df to email"
   ]
  }
 ],
 "metadata": {
  "kernelspec": {
   "display_name": "Python 3",
   "language": "python",
   "name": "python3"
  },
  "language_info": {
   "codemirror_mode": {
    "name": "ipython",
    "version": 3
   },
   "file_extension": ".py",
   "mimetype": "text/x-python",
   "name": "python",
   "nbconvert_exporter": "python",
   "pygments_lexer": "ipython3",
   "version": "3.6.1"
  }
 },
 "nbformat": 4,
 "nbformat_minor": 2
}
