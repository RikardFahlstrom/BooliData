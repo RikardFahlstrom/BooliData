{
 "cells": [
  {
   "cell_type": "markdown",
   "metadata": {},
   "source": [
    "# Create custom email notifications for new listings\n",
    "\n",
    "**Based on user critieras, an email will be sent to your email once a week with the newest listings.**"
   ]
  },
  {
   "cell_type": "code",
   "execution_count": 1,
   "metadata": {
    "collapsed": true
   },
   "outputs": [],
   "source": [
    "# Import necessary libraries\n",
    "import requests\n",
    "import time\n",
    "import random\n",
    "import string\n",
    "import hashlib\n",
    "import pandas as pd\n",
    "import json\n",
    "import smtplib\n",
    "from email.mime.multipart import MIMEMultipart\n",
    "from email.mime.text import MIMEText\n",
    "from email.mime.base import MIMEBase\n",
    "from email import encoders\n",
    "import csv"
   ]
  },
  {
   "cell_type": "code",
   "execution_count": 2,
   "metadata": {},
   "outputs": [
    {
     "name": "stdout",
     "output_type": "stream",
     "text": [
      "This script will enable you to create custom email alerts for new house listings. \n",
      "You need your own CallerId for the Booli-API.\n"
     ]
    }
   ],
   "source": [
    "# Present script info to user\n",
    "print(\"This script will enable you to create custom email alerts for new house listings. \\nYou need your own CallerId for the Booli-API.\")"
   ]
  },
  {
   "cell_type": "code",
   "execution_count": 3,
   "metadata": {},
   "outputs": [
    {
     "name": "stdout",
     "output_type": "stream",
     "text": [
      "Enter your email address: jockebull@hotmail.com\n",
      "append to list\n"
     ]
    }
   ],
   "source": [
    "user_email = input(\"Enter your email address: \")\n",
    "\n",
    "with open('users.csv', 'r') as f:\n",
    "    reader = csv.reader(f)\n",
    "    user_list = list(reader)\n",
    "    \n",
    "user_list_2 = [item for user_list_2 in user_list for item in user_list_2]\n",
    "    \n",
    "if user_email in user_list_2:\n",
    "    print(\"You already have an alarm config.\")\n",
    "    answer = input(\"Do you want to reset? y/n: \")\n",
    "    if answer == 'n':\n",
    "        print(\"EXIT\")\n",
    "        exit()\n",
    "        \n",
    "    else:\n",
    "        print(\"Continue\")\n",
    "        pass\n",
    "    \n",
    "\n",
    "print(\"append to list\")\n",
    "user_list_2.append(user_email)\n",
    "    \n",
    "with open('users.csv', 'w') as f:\n",
    "    wr = csv.writer(f, quoting=csv.QUOTE_ALL)\n",
    "    wr.writerow(user_list_2)\n"
   ]
  },
  {
   "cell_type": "code",
   "execution_count": 4,
   "metadata": {},
   "outputs": [
    {
     "name": "stdout",
     "output_type": "stream",
     "text": [
      "Please enter your Booli-API CallerId: Rikard Fahlström\n",
      "Perfect! Now let´s enter some custom search options.\n"
     ]
    }
   ],
   "source": [
    "# Ask user for API login information\n",
    "\n",
    "callerId = input(\"Please enter your Booli-API CallerId: \")\n",
    "if len(callerId) == 0:\n",
    "    callerId = input(\"You did not write anything! Please enter your Booli-API CallerId: \")\n",
    "\n",
    "user_key = 'vOl0qzQAp1tKtsFvzHXDPpA27ga9ZE5AdJaGiIIX'\n",
    "#key = input(\"Please enter your Booli-API private key: \")\n",
    "#if len(key) == 0:\n",
    "    #key = input(\"You did not write anything! Please enter your Booli-API private key: \")\n",
    "\n",
    "print(\"Perfect! Now let´s enter some custom search options.\")"
   ]
  },
  {
   "cell_type": "code",
   "execution_count": 5,
   "metadata": {},
   "outputs": [
    {
     "name": "stdout",
     "output_type": "stream",
     "text": [
      "Which area are you interested in? Type for e.g. Uppsala, Falun, Vasastan. Falun\n",
      "What type of object are you interested in? Enter 'villa', 'lägenhet', 'gård', 'tomt-mark', 'fritidshus', 'parhus','radhus' or 'kedjehus'. lägenhet\n",
      "Thanks!\n",
      "Enter minimum number of rooms: 2\n",
      "Enter maximum list price for objects: 5000000\n",
      "Great, you will now receive a email once per day.\n"
     ]
    }
   ],
   "source": [
    "# Ask for custom search options\n",
    "\n",
    "# Define area\n",
    "area = input(\"Which area are you interested in? Type for e.g. Uppsala, Falun, Vasastan. \")\n",
    "if len(area) == 0:\n",
    "    area = input(\"Please enter area of interest: \")\n",
    "\n",
    "# Define type_of_object    \n",
    "valid_type_of_objects = ['villa', 'lägenhet', 'gård', 'tomt-mark', 'fritidshus', 'parhus','radhus','kedjehus']    \n",
    "\n",
    "type_of_object = input(\"What type of object are you interested in? Enter 'villa', 'lägenhet', 'gård', 'tomt-mark', 'fritidshus', 'parhus','radhus' or 'kedjehus'. \")\n",
    "if type_of_object in valid_type_of_objects:\n",
    "    print(\"Thanks!\")\n",
    "else:\n",
    "    type_of_object = input(\"Please enter which type of object you are interested in. Enter one of following; 'villa', 'lägenhet', 'gård', 'tomt-mark', 'fritidshus', 'parhus','radhus' or 'kedjehus'.\")\n",
    "\n",
    "# Define minimum number of rooms\n",
    "MinRooms = input(\"Enter minimum number of rooms: \")\n",
    "if len(MinRooms) == 0:\n",
    "    MinRooms = input(\"Please enter minimum number of rooms as single digit.\")\n",
    "elif MinRooms == \"0\":\n",
    "    MinRooms = input(\"0 number of rooms is not a valid object, please enter number of rooms >0: \")\n",
    "    \n",
    "\n",
    "# Ask for maximum list price\n",
    "MaxPrice = input(\"Enter maximum list price for objects: \")\n",
    "if len(MaxPrice) == 0:\n",
    "    MaxPrice = input(\"Please enter the maximum list price: \")\n",
    "\n",
    "\n",
    "print(\"Great, you will now receive a email once per day.\")"
   ]
  },
  {
   "cell_type": "code",
   "execution_count": 18,
   "metadata": {},
   "outputs": [
    {
     "ename": "AttributeError",
     "evalue": "'str' object has no attribute 'time'",
     "output_type": "error",
     "traceback": [
      "\u001b[1;31m---------------------------------------------------------------------------\u001b[0m",
      "\u001b[1;31mAttributeError\u001b[0m                            Traceback (most recent call last)",
      "\u001b[1;32m<ipython-input-18-c850f5a4217f>\u001b[0m in \u001b[0;36m<module>\u001b[1;34m()\u001b[0m\n\u001b[0;32m      3\u001b[0m \u001b[1;31m# Inputvärden\u001b[0m\u001b[1;33m\u001b[0m\u001b[1;33m\u001b[0m\u001b[0m\n\u001b[0;32m      4\u001b[0m \u001b[0mcallerId\u001b[0m \u001b[1;33m=\u001b[0m \u001b[1;34m\"Rikard Fahlström\"\u001b[0m\u001b[1;33m\u001b[0m\u001b[0m\n\u001b[1;32m----> 5\u001b[1;33m \u001b[0mtime\u001b[0m \u001b[1;33m=\u001b[0m \u001b[0mstr\u001b[0m\u001b[1;33m(\u001b[0m\u001b[0mtime\u001b[0m\u001b[1;33m.\u001b[0m\u001b[0mtime\u001b[0m\u001b[1;33m(\u001b[0m\u001b[1;33m)\u001b[0m\u001b[1;33m)\u001b[0m\u001b[1;33m\u001b[0m\u001b[0m\n\u001b[0m\u001b[0;32m      6\u001b[0m \u001b[0munique\u001b[0m \u001b[1;33m=\u001b[0m \u001b[0mstr\u001b[0m\u001b[1;33m(\u001b[0m\u001b[1;34m''\u001b[0m\u001b[1;33m.\u001b[0m\u001b[0mjoin\u001b[0m\u001b[1;33m(\u001b[0m\u001b[0mrandom\u001b[0m\u001b[1;33m.\u001b[0m\u001b[0mchoice\u001b[0m\u001b[1;33m(\u001b[0m\u001b[0mstring\u001b[0m\u001b[1;33m.\u001b[0m\u001b[0mascii_lowercase\u001b[0m \u001b[1;33m+\u001b[0m \u001b[0mstring\u001b[0m\u001b[1;33m.\u001b[0m\u001b[0mdigits\u001b[0m\u001b[1;33m)\u001b[0m \u001b[1;32mfor\u001b[0m \u001b[0m_\u001b[0m \u001b[1;32min\u001b[0m \u001b[0mrange\u001b[0m\u001b[1;33m(\u001b[0m\u001b[1;36m16\u001b[0m\u001b[1;33m)\u001b[0m\u001b[1;33m)\u001b[0m\u001b[1;33m)\u001b[0m\u001b[1;33m\u001b[0m\u001b[0m\n\u001b[0;32m      7\u001b[0m \u001b[0mkey\u001b[0m \u001b[1;33m=\u001b[0m \u001b[0muser_key\u001b[0m\u001b[1;33m\u001b[0m\u001b[0m\n",
      "\u001b[1;31mAttributeError\u001b[0m: 'str' object has no attribute 'time'"
     ]
    }
   ],
   "source": [
    "# Create API-requests based on user input\n",
    "\n",
    "# Inputvärden\n",
    "callerId = \"Rikard Fahlström\"\n",
    "time = str(time.time())\n",
    "unique = str(''.join(random.choice(string.ascii_lowercase + string.digits) for _ in range(16)))\n",
    "key = user_key\n",
    "hashstr = hashlib.sha1((callerId+time+key+unique).encode('utf-8')).hexdigest()\n",
    "query_type = 'listings'  # Enter 'listings', 'sold' eller 'areas'\n",
    "query_city = area\n",
    "offset = '0' # \n",
    "limit = str(10)  # Max antal svar från deras server. Maxgräns = 500\n",
    "object_type = str(type_of_object)\n",
    "\n",
    "# Själva API-frågan\n",
    "r = requests.get(\"https://api.booli.se/\"+\n",
    "                 query_type+\"?q=\"+query_city+\n",
    "                 \"&callerId=\"+callerId+\n",
    "                 \"&time=\"+time+\n",
    "                 \"&unique=\"+unique+\n",
    "                 \"&hash=\"+str(hashstr)+\n",
    "                 \"&limit=\"+limit+\n",
    "                 \"&offset=\"+offset+\n",
    "                 \"&objectType=\"+object_type+\n",
    "                \"&minRooms=\"+MinRooms+\n",
    "                \"&maxListPrice=\"+MaxPrice)\n",
    "\n",
    "print(\"Status code from API request = \" + str(r.status_code)+ \"\\n\")\n",
    "\n",
    "if r.status_code != 200:\n",
    "    print('fail')\n",
    "    exit()\n",
    "\n",
    "output = json.loads(r.text)\n",
    "\n",
    "print(\"Number of listings returned in API = \" + str(len(output['listings'])) + \"\\n\")\n",
    "print(output.keys())\n"
   ]
  },
  {
   "cell_type": "code",
   "execution_count": 7,
   "metadata": {
    "collapsed": true
   },
   "outputs": [],
   "source": [
    "urls = []\n",
    "for value in range(len(output['listings'])):\n",
    "    urls.append(output['listings'][value]['url'])\n",
    "\n",
    "#print(type(urls))"
   ]
  },
  {
   "cell_type": "code",
   "execution_count": 8,
   "metadata": {
    "collapsed": true
   },
   "outputs": [],
   "source": [
    "object_id = []\n",
    "for value in range(len(output['listings'])):\n",
    "    object_id.append(output['listings'][value]['booliId'])\n",
    "\n",
    "#print(type(object_id))"
   ]
  },
  {
   "cell_type": "code",
   "execution_count": 9,
   "metadata": {
    "collapsed": true
   },
   "outputs": [],
   "source": [
    "room_info = []\n",
    "for value in range(len(output['listings'])):\n",
    "    room_info.append(output['listings'][value]['rooms'])\n",
    "\n",
    "#print(room_info)"
   ]
  },
  {
   "cell_type": "code",
   "execution_count": 10,
   "metadata": {
    "collapsed": true
   },
   "outputs": [],
   "source": [
    "muni_info = []\n",
    "for value in range(len(output['listings'])):\n",
    "    muni_info.append(output['listings'][value]['location']['region']['municipalityName'])\n",
    "\n",
    "#print(muni_info)"
   ]
  },
  {
   "cell_type": "code",
   "execution_count": 11,
   "metadata": {
    "collapsed": true
   },
   "outputs": [],
   "source": [
    "price_info = []\n",
    "for value in range(len(output['listings'])):\n",
    "    price_info.append(output['listings'][value]['listPrice'])\n",
    "\n",
    "#print(type(price_info))"
   ]
  },
  {
   "cell_type": "code",
   "execution_count": 12,
   "metadata": {
    "collapsed": true
   },
   "outputs": [],
   "source": [
    "address_info = []\n",
    "for value in range(len(output['listings'])):\n",
    "    address_info.append(output['listings'][value]['location']['address']['streetAddress'])\n",
    "\n",
    "#print(address_info)"
   ]
  },
  {
   "cell_type": "code",
   "execution_count": 13,
   "metadata": {
    "collapsed": true
   },
   "outputs": [],
   "source": [
    "published_info = []\n",
    "for value in range(len(output['listings'])):\n",
    "    published_info.append(output['listings'][value]['published'])\n",
    "\n",
    "#print(published_info)"
   ]
  },
  {
   "cell_type": "code",
   "execution_count": 14,
   "metadata": {},
   "outputs": [
    {
     "name": "stdout",
     "output_type": "stream",
     "text": [
      "                                2.Address 3. Area  4 .List price  5. # Rooms  \\\n",
      "1.Published                                                                    \n",
      "2017-06-16 19:20:44    Kungsgårdsvägen 2A   Falun        1150000         3.0   \n",
      "2017-06-16 03:04:33        Linnévägen 23A   Falun        1825000         2.5   \n",
      "2017-06-14 18:20:51        Linnévägen 23A   Falun        1595000         2.0   \n",
      "2017-06-13 19:11:51        Ingels väg 147   Falun        1350000         2.0   \n",
      "2017-06-11 22:11:48        Sturegatan 75E   Falun        1495000         3.0   \n",
      "2017-06-10 04:19:35    Drottningvägen 10B   Falun         350000         3.0   \n",
      "2017-06-03 00:03:27        Linnévägen 29A   Falun        1925000         3.0   \n",
      "2017-06-02 22:06:42         Hyttgatan 33A   Falun        1385000         3.0   \n",
      "2017-06-02 21:49:23  Södra Mariegatan 13B   Falun        1295000         2.0   \n",
      "2017-05-18 01:01:11       Torkils väg 10D   Falun        1695000         3.0   \n",
      "\n",
      "                                                 6. urls  \n",
      "1.Published                                               \n",
      "2017-06-16 19:20:44  https://www.booli.se/annons/2354781  \n",
      "2017-06-16 03:04:33  https://www.booli.se/annons/2354008  \n",
      "2017-06-14 18:20:51  https://www.booli.se/annons/2353076  \n",
      "2017-06-13 19:11:51  https://www.booli.se/annons/2352350  \n",
      "2017-06-11 22:11:48  https://www.booli.se/annons/2346310  \n",
      "2017-06-10 04:19:35  https://www.booli.se/annons/2350503  \n",
      "2017-06-03 00:03:27  https://www.booli.se/annons/2345731  \n",
      "2017-06-02 22:06:42  https://www.booli.se/annons/2345463  \n",
      "2017-06-02 21:49:23  https://www.booli.se/annons/2345409  \n",
      "2017-05-18 01:01:11  https://www.booli.se/annons/2330469  \n"
     ]
    }
   ],
   "source": [
    "\n",
    "df = pd.DataFrame({\n",
    "    '1.Published':published_info,\n",
    "     '3. Area':muni_info,\n",
    "     '2.Address':address_info,\n",
    "     '5. # Rooms':room_info,\n",
    "     '4 .List price':price_info,\n",
    "    '6. urls':urls\n",
    "     })\n",
    "\n",
    "df['1.Published'] = pd.to_datetime(df['1.Published'])\n",
    "#df['4 .List price'] = '{:,}'.format(df['4 .List price'])\n",
    "\n",
    "\n",
    "df2 = df.set_index(['1.Published'])\n",
    "print(df2)\n",
    "#print(df2.dtypes)\n",
    "\n",
    "df_html = df2.to_html()"
   ]
  },
  {
   "cell_type": "code",
   "execution_count": 16,
   "metadata": {},
   "outputs": [
    {
     "name": "stdout",
     "output_type": "stream",
     "text": [
      "steg1\n",
      "steg2\n",
      "steg3\n",
      "test\n",
      "steg4\n",
      "Done\n"
     ]
    }
   ],
   "source": [
    "# Add df to email\n",
    "\n",
    "fromaddr = 'rikard.email.notification@gmail.com'\n",
    "toaddr = 'jockebull@hotmail.com'\n",
    "subject = 'Custom email notification'\n",
    "print(\"steg1\")\n",
    "msg = MIMEMultipart()\n",
    "\n",
    "msg['From'] = fromaddr\n",
    "msg['To'] = toaddr\n",
    "msg['Subject'] = subject\n",
    "print(\"steg2\")\n",
    "body = 'This is your custom email notification.'\n",
    "msg.attach(MIMEText(body, 'plain'))\n",
    "\n",
    "msg1 = MIMEText(df_html,'html')\n",
    "msg.attach(msg1)\n",
    "print(\"steg3\")\n",
    "\n",
    "server = smtplib.SMTP('smtp.gmail.com', 587)\n",
    "print(\"test\")\n",
    "server.starttls()\n",
    "server.login(fromaddr, 'fJBBzWcD4K')\n",
    "print(\"steg4\")\n",
    "text = msg.as_string()\n",
    "server.sendmail(fromaddr, toaddr, text)\n",
    "server.quit()\n",
    "\n",
    "print('Done')"
   ]
  },
  {
   "cell_type": "code",
   "execution_count": null,
   "metadata": {
    "collapsed": true
   },
   "outputs": [],
   "source": []
  }
 ],
 "metadata": {
  "kernelspec": {
   "display_name": "Python 3",
   "language": "python",
   "name": "python3"
  },
  "language_info": {
   "codemirror_mode": {
    "name": "ipython",
    "version": 3
   },
   "file_extension": ".py",
   "mimetype": "text/x-python",
   "name": "python",
   "nbconvert_exporter": "python",
   "pygments_lexer": "ipython3",
   "version": "3.6.1"
  }
 },
 "nbformat": 4,
 "nbformat_minor": 2
}
